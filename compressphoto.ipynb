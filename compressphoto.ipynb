{
 "cells": [
  {
   "cell_type": "code",
   "execution_count": 4,
   "metadata": {},
   "outputs": [
    {
     "name": "stdout",
     "output_type": "stream",
     "text": [
      "Compressed and saved: slideshow1.jpg\n",
      "Compressed and saved: slideshow2.jpg\n",
      "Compressed and saved: slideshow3.jpg\n",
      "Compressed and saved: slideshow4.jpg\n",
      "Compressed and saved: slideshow5.jpg\n"
     ]
    }
   ],
   "source": [
    "import os\n",
    "from PIL import Image\n",
    "\n",
    "def compress_images_in_folder(folder_path, quality=85):\n",
    "    # Loop through all files in the specified folder\n",
    "    for filename in os.listdir(folder_path):\n",
    "        file_path = os.path.join(folder_path, filename)\n",
    "\n",
    "        # Check if the file is an image\n",
    "        if os.path.isfile(file_path) and filename.lower().endswith(('.png', '.jpg', '.jpeg')):\n",
    "            try:\n",
    "                # Open the image\n",
    "                with Image.open(file_path) as img:\n",
    "                    # Compress and save the image with the same name (overwrite)\n",
    "                    img.save(file_path, optimize=True, quality=quality)\n",
    "                print(f\"Compressed and saved: {filename}\")\n",
    "            except Exception as e:\n",
    "                print(f\"Error compressing {filename}: {e}\")\n",
    "\n",
    "if __name__ == \"__main__\":\n",
    "    # Replace 'your_folder_path' with the path to your images folder\n",
    "    folder_path = 'images/carousel'\n",
    "    compress_images_in_folder(folder_path)\n"
   ]
  }
 ],
 "metadata": {
  "kernelspec": {
   "display_name": "base",
   "language": "python",
   "name": "python3"
  },
  "language_info": {
   "codemirror_mode": {
    "name": "ipython",
    "version": 3
   },
   "file_extension": ".py",
   "mimetype": "text/x-python",
   "name": "python",
   "nbconvert_exporter": "python",
   "pygments_lexer": "ipython3",
   "version": "3.12.3"
  }
 },
 "nbformat": 4,
 "nbformat_minor": 2
}
